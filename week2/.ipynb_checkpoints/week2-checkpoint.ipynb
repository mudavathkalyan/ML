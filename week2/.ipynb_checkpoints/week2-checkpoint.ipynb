{
 "cells": [
  {
   "cell_type": "markdown",
   "id": "1417c43e-92f9-4133-9eb5-0b82ac9ffa7f",
   "metadata": {},
   "source": [
    "## Task: DataPre-processing and visualization"
   ]
  },
  {
   "cell_type": "code",
   "execution_count": 1,
   "id": "90a517eb-e422-4e55-a3e6-8a406a80d0e7",
   "metadata": {},
   "outputs": [],
   "source": [
    "import pandas as pd\n",
    "import numpy as np\n",
    "df=pd.read_csv(\"Car_sales.csv\");"
   ]
  },
  {
   "cell_type": "code",
   "execution_count": 2,
   "id": "6a20712c-d067-4c0a-ba3e-f6ea873fe914",
   "metadata": {},
   "outputs": [
    {
     "data": {
      "text/html": [
       "<div>\n",
       "<style scoped>\n",
       "    .dataframe tbody tr th:only-of-type {\n",
       "        vertical-align: middle;\n",
       "    }\n",
       "\n",
       "    .dataframe tbody tr th {\n",
       "        vertical-align: top;\n",
       "    }\n",
       "\n",
       "    .dataframe thead th {\n",
       "        text-align: right;\n",
       "    }\n",
       "</style>\n",
       "<table border=\"1\" class=\"dataframe\">\n",
       "  <thead>\n",
       "    <tr style=\"text-align: right;\">\n",
       "      <th></th>\n",
       "      <th>Manufacturer</th>\n",
       "      <th>Model</th>\n",
       "      <th>Sales in thousands</th>\n",
       "      <th>4-year resale value</th>\n",
       "      <th>Vehicle type</th>\n",
       "      <th>Price in thousands</th>\n",
       "      <th>Engine size</th>\n",
       "      <th>Horsepower</th>\n",
       "      <th>Wheelbase</th>\n",
       "      <th>Width</th>\n",
       "      <th>Length</th>\n",
       "      <th>Curb weight</th>\n",
       "      <th>Fuel capacity</th>\n",
       "      <th>Fuel efficiency</th>\n",
       "      <th>Latest Launch</th>\n",
       "    </tr>\n",
       "  </thead>\n",
       "  <tbody>\n",
       "    <tr>\n",
       "      <th>0</th>\n",
       "      <td>Acura</td>\n",
       "      <td>Integra</td>\n",
       "      <td>16.919</td>\n",
       "      <td>16.36</td>\n",
       "      <td>Passenger</td>\n",
       "      <td>21.5</td>\n",
       "      <td>1.8</td>\n",
       "      <td>140</td>\n",
       "      <td>101.2</td>\n",
       "      <td>67.3</td>\n",
       "      <td>172.4</td>\n",
       "      <td>2.639</td>\n",
       "      <td>13.2</td>\n",
       "      <td>28</td>\n",
       "      <td>2-Feb-14</td>\n",
       "    </tr>\n",
       "    <tr>\n",
       "      <th>1</th>\n",
       "      <td>Acura</td>\n",
       "      <td>TL</td>\n",
       "      <td>39.384</td>\n",
       "      <td>19.875</td>\n",
       "      <td>Passenger</td>\n",
       "      <td>28.4</td>\n",
       "      <td>3.2</td>\n",
       "      <td>225</td>\n",
       "      <td>108.1</td>\n",
       "      <td>70.3</td>\n",
       "      <td>192.9</td>\n",
       "      <td>3.517</td>\n",
       "      <td>17.2</td>\n",
       "      <td>25</td>\n",
       "      <td>6-Mar-15</td>\n",
       "    </tr>\n",
       "    <tr>\n",
       "      <th>2</th>\n",
       "      <td>Acura</td>\n",
       "      <td>CL</td>\n",
       "      <td>14.114</td>\n",
       "      <td>18.225</td>\n",
       "      <td>Passenger</td>\n",
       "      <td>.</td>\n",
       "      <td>3.2</td>\n",
       "      <td>225</td>\n",
       "      <td>106.9</td>\n",
       "      <td>70.6</td>\n",
       "      <td>192</td>\n",
       "      <td>3.47</td>\n",
       "      <td>17.2</td>\n",
       "      <td>26</td>\n",
       "      <td>1-Apr-14</td>\n",
       "    </tr>\n",
       "    <tr>\n",
       "      <th>3</th>\n",
       "      <td>Acura</td>\n",
       "      <td>RL</td>\n",
       "      <td>8.588</td>\n",
       "      <td>29.725</td>\n",
       "      <td>Passenger</td>\n",
       "      <td>42</td>\n",
       "      <td>3.5</td>\n",
       "      <td>210</td>\n",
       "      <td>114.6</td>\n",
       "      <td>71.4</td>\n",
       "      <td>196.6</td>\n",
       "      <td>3.85</td>\n",
       "      <td>18</td>\n",
       "      <td>22</td>\n",
       "      <td>3-Oct-15</td>\n",
       "    </tr>\n",
       "    <tr>\n",
       "      <th>4</th>\n",
       "      <td>Audi</td>\n",
       "      <td>A4</td>\n",
       "      <td>20.397</td>\n",
       "      <td>22.255</td>\n",
       "      <td>Passenger</td>\n",
       "      <td>23.99</td>\n",
       "      <td>1.8</td>\n",
       "      <td>150</td>\n",
       "      <td>102.6</td>\n",
       "      <td>68.2</td>\n",
       "      <td>178</td>\n",
       "      <td>2.998</td>\n",
       "      <td>16.4</td>\n",
       "      <td>27</td>\n",
       "      <td>10-Aug-15</td>\n",
       "    </tr>\n",
       "    <tr>\n",
       "      <th>...</th>\n",
       "      <td>...</td>\n",
       "      <td>...</td>\n",
       "      <td>...</td>\n",
       "      <td>...</td>\n",
       "      <td>...</td>\n",
       "      <td>...</td>\n",
       "      <td>...</td>\n",
       "      <td>...</td>\n",
       "      <td>...</td>\n",
       "      <td>...</td>\n",
       "      <td>...</td>\n",
       "      <td>...</td>\n",
       "      <td>...</td>\n",
       "      <td>...</td>\n",
       "      <td>...</td>\n",
       "    </tr>\n",
       "    <tr>\n",
       "      <th>152</th>\n",
       "      <td>Volvo</td>\n",
       "      <td>V40</td>\n",
       "      <td>3.545</td>\n",
       "      <td>.</td>\n",
       "      <td>Passenger</td>\n",
       "      <td>24.4</td>\n",
       "      <td>1.9</td>\n",
       "      <td>160</td>\n",
       "      <td>100.5</td>\n",
       "      <td>67.6</td>\n",
       "      <td>176.6</td>\n",
       "      <td>3.042</td>\n",
       "      <td>15.8</td>\n",
       "      <td>25</td>\n",
       "      <td>21-Sep-15</td>\n",
       "    </tr>\n",
       "    <tr>\n",
       "      <th>153</th>\n",
       "      <td>Volvo</td>\n",
       "      <td>S70</td>\n",
       "      <td>15.245</td>\n",
       "      <td>.</td>\n",
       "      <td>Passenger</td>\n",
       "      <td>27.5</td>\n",
       "      <td>2.4</td>\n",
       "      <td>168</td>\n",
       "      <td>104.9</td>\n",
       "      <td>69.3</td>\n",
       "      <td>185.9</td>\n",
       "      <td>3.208</td>\n",
       "      <td>17.9</td>\n",
       "      <td>25</td>\n",
       "      <td>24-Nov-14</td>\n",
       "    </tr>\n",
       "    <tr>\n",
       "      <th>154</th>\n",
       "      <td>Volvo</td>\n",
       "      <td>V70</td>\n",
       "      <td>17.531</td>\n",
       "      <td>.</td>\n",
       "      <td>Passenger</td>\n",
       "      <td>28.8</td>\n",
       "      <td>2.4</td>\n",
       "      <td>168</td>\n",
       "      <td>104.9</td>\n",
       "      <td>69.3</td>\n",
       "      <td>186.2</td>\n",
       "      <td>3.259</td>\n",
       "      <td>17.9</td>\n",
       "      <td>25</td>\n",
       "      <td>25-Jun-15</td>\n",
       "    </tr>\n",
       "    <tr>\n",
       "      <th>155</th>\n",
       "      <td>Volvo</td>\n",
       "      <td>C70</td>\n",
       "      <td>3.493</td>\n",
       "      <td>.</td>\n",
       "      <td>Passenger</td>\n",
       "      <td>45.5</td>\n",
       "      <td>2.3</td>\n",
       "      <td>236</td>\n",
       "      <td>104.9</td>\n",
       "      <td>71.5</td>\n",
       "      <td>185.7</td>\n",
       "      <td>3.601</td>\n",
       "      <td>18.5</td>\n",
       "      <td>23</td>\n",
       "      <td>26-Apr-15</td>\n",
       "    </tr>\n",
       "    <tr>\n",
       "      <th>156</th>\n",
       "      <td>Volvo</td>\n",
       "      <td>S80</td>\n",
       "      <td>18.969</td>\n",
       "      <td>.</td>\n",
       "      <td>Passenger</td>\n",
       "      <td>36</td>\n",
       "      <td>2.9</td>\n",
       "      <td>201</td>\n",
       "      <td>109.9</td>\n",
       "      <td>72.1</td>\n",
       "      <td>189.8</td>\n",
       "      <td>3.6</td>\n",
       "      <td>21.1</td>\n",
       "      <td>24</td>\n",
       "      <td>14-Nov-15</td>\n",
       "    </tr>\n",
       "  </tbody>\n",
       "</table>\n",
       "<p>157 rows × 15 columns</p>\n",
       "</div>"
      ],
      "text/plain": [
       "      Manufacturer              Model  Sales in thousands 4-year resale value  \\\n",
       "0    Acura          Integra                        16.919               16.36   \n",
       "1    Acura          TL                             39.384              19.875   \n",
       "2    Acura          CL                             14.114              18.225   \n",
       "3    Acura          RL                              8.588              29.725   \n",
       "4    Audi           A4                             20.397              22.255   \n",
       "..             ...                ...                 ...                 ...   \n",
       "152  Volvo          V40                             3.545                   .   \n",
       "153  Volvo          S70                            15.245                   .   \n",
       "154  Volvo          V70                            17.531                   .   \n",
       "155  Volvo          C70                             3.493                   .   \n",
       "156  Volvo          S80                            18.969                   .   \n",
       "\n",
       "    Vehicle type Price in thousands Engine size Horsepower Wheelbase Width  \\\n",
       "0      Passenger               21.5         1.8        140     101.2  67.3   \n",
       "1      Passenger               28.4         3.2        225     108.1  70.3   \n",
       "2      Passenger                  .         3.2        225     106.9  70.6   \n",
       "3      Passenger                 42         3.5        210     114.6  71.4   \n",
       "4      Passenger              23.99         1.8        150     102.6  68.2   \n",
       "..           ...                ...         ...        ...       ...   ...   \n",
       "152    Passenger               24.4         1.9        160     100.5  67.6   \n",
       "153    Passenger               27.5         2.4        168     104.9  69.3   \n",
       "154    Passenger               28.8         2.4        168     104.9  69.3   \n",
       "155    Passenger               45.5         2.3        236     104.9  71.5   \n",
       "156    Passenger                 36         2.9        201     109.9  72.1   \n",
       "\n",
       "    Length Curb weight Fuel capacity Fuel efficiency Latest Launch  \n",
       "0    172.4       2.639          13.2              28      2-Feb-14  \n",
       "1    192.9       3.517          17.2              25      6-Mar-15  \n",
       "2      192        3.47          17.2              26      1-Apr-14  \n",
       "3    196.6        3.85            18              22      3-Oct-15  \n",
       "4      178       2.998          16.4              27     10-Aug-15  \n",
       "..     ...         ...           ...             ...           ...  \n",
       "152  176.6       3.042          15.8              25     21-Sep-15  \n",
       "153  185.9       3.208          17.9              25     24-Nov-14  \n",
       "154  186.2       3.259          17.9              25     25-Jun-15  \n",
       "155  185.7       3.601          18.5              23     26-Apr-15  \n",
       "156  189.8         3.6          21.1              24     14-Nov-15  \n",
       "\n",
       "[157 rows x 15 columns]"
      ]
     },
     "execution_count": 2,
     "metadata": {},
     "output_type": "execute_result"
    }
   ],
   "source": [
    "df"
   ]
  },
  {
   "cell_type": "code",
   "execution_count": 3,
   "id": "80226ecf-949a-4947-a3e2-d91930eef587",
   "metadata": {},
   "outputs": [],
   "source": [
    "# Pandas is used for data cleaning and transformation\n",
    "# Matplotlib creates basic plots for visualization\n",
    "# Seaborn helps in advanced and aesthetic statistical visualizations\n",
    "# Data Pre-Processing ensures data quality before visualization\n",
    "# Visualization techniques help understand relationships and detect\n",
    "# patterns"
   ]
  },
  {
   "cell_type": "code",
   "execution_count": 4,
   "id": "7f4b1a09-26e2-49ed-a74a-fd09f5ef4e27",
   "metadata": {},
   "outputs": [
    {
     "name": "stdout",
     "output_type": "stream",
     "text": [
      "Requirement already satisfied: seaborn in /home/rgukt-basar/myenv/lib/python3.12/site-packages (0.13.2)\n",
      "Requirement already satisfied: numpy!=1.24.0,>=1.20 in /home/rgukt-basar/myenv/lib/python3.12/site-packages (from seaborn) (1.26.4)\n",
      "Requirement already satisfied: pandas>=1.2 in /home/rgukt-basar/myenv/lib/python3.12/site-packages (from seaborn) (2.2.3)\n",
      "Requirement already satisfied: matplotlib!=3.6.1,>=3.4 in /home/rgukt-basar/myenv/lib/python3.12/site-packages (from seaborn) (3.10.0)\n",
      "Requirement already satisfied: contourpy>=1.0.1 in /home/rgukt-basar/myenv/lib/python3.12/site-packages (from matplotlib!=3.6.1,>=3.4->seaborn) (1.3.1)\n",
      "Requirement already satisfied: cycler>=0.10 in /home/rgukt-basar/myenv/lib/python3.12/site-packages (from matplotlib!=3.6.1,>=3.4->seaborn) (0.12.1)\n",
      "Requirement already satisfied: fonttools>=4.22.0 in /home/rgukt-basar/myenv/lib/python3.12/site-packages (from matplotlib!=3.6.1,>=3.4->seaborn) (4.56.0)\n",
      "Requirement already satisfied: kiwisolver>=1.3.1 in /home/rgukt-basar/myenv/lib/python3.12/site-packages (from matplotlib!=3.6.1,>=3.4->seaborn) (1.4.8)\n",
      "Requirement already satisfied: packaging>=20.0 in /home/rgukt-basar/myenv/lib/python3.12/site-packages (from matplotlib!=3.6.1,>=3.4->seaborn) (24.2)\n",
      "Requirement already satisfied: pillow>=8 in /home/rgukt-basar/myenv/lib/python3.12/site-packages (from matplotlib!=3.6.1,>=3.4->seaborn) (11.1.0)\n",
      "Requirement already satisfied: pyparsing>=2.3.1 in /home/rgukt-basar/myenv/lib/python3.12/site-packages (from matplotlib!=3.6.1,>=3.4->seaborn) (3.2.1)\n",
      "Requirement already satisfied: python-dateutil>=2.7 in /home/rgukt-basar/myenv/lib/python3.12/site-packages (from matplotlib!=3.6.1,>=3.4->seaborn) (2.9.0.post0)\n",
      "Requirement already satisfied: pytz>=2020.1 in /home/rgukt-basar/myenv/lib/python3.12/site-packages (from pandas>=1.2->seaborn) (2025.1)\n",
      "Requirement already satisfied: tzdata>=2022.7 in /home/rgukt-basar/myenv/lib/python3.12/site-packages (from pandas>=1.2->seaborn) (2025.1)\n",
      "Requirement already satisfied: six>=1.5 in /home/rgukt-basar/myenv/lib/python3.12/site-packages (from python-dateutil>=2.7->matplotlib!=3.6.1,>=3.4->seaborn) (1.17.0)\n",
      "Note: you may need to restart the kernel to use updated packages.\n"
     ]
    }
   ],
   "source": [
    "pip install seaborn"
   ]
  },
  {
   "cell_type": "code",
   "execution_count": 5,
   "id": "d133aa83-56bd-42f3-b0eb-3301f1e6cb2d",
   "metadata": {},
   "outputs": [],
   "source": [
    "import seaborn as sb\n",
    "import matplotlib.pyplot as plt"
   ]
  },
  {
   "cell_type": "code",
   "execution_count": 6,
   "id": "e0494eba-6604-4ac2-88ee-51d8a8000075",
   "metadata": {},
   "outputs": [
    {
     "data": {
      "text/html": [
       "<div>\n",
       "<style scoped>\n",
       "    .dataframe tbody tr th:only-of-type {\n",
       "        vertical-align: middle;\n",
       "    }\n",
       "\n",
       "    .dataframe tbody tr th {\n",
       "        vertical-align: top;\n",
       "    }\n",
       "\n",
       "    .dataframe thead th {\n",
       "        text-align: right;\n",
       "    }\n",
       "</style>\n",
       "<table border=\"1\" class=\"dataframe\">\n",
       "  <thead>\n",
       "    <tr style=\"text-align: right;\">\n",
       "      <th></th>\n",
       "      <th>Manufacturer</th>\n",
       "      <th>Model</th>\n",
       "      <th>Sales in thousands</th>\n",
       "      <th>4-year resale value</th>\n",
       "      <th>Vehicle type</th>\n",
       "      <th>Price in thousands</th>\n",
       "      <th>Engine size</th>\n",
       "      <th>Horsepower</th>\n",
       "      <th>Wheelbase</th>\n",
       "      <th>Width</th>\n",
       "      <th>Length</th>\n",
       "      <th>Curb weight</th>\n",
       "      <th>Fuel capacity</th>\n",
       "      <th>Fuel efficiency</th>\n",
       "      <th>Latest Launch</th>\n",
       "    </tr>\n",
       "  </thead>\n",
       "  <tbody>\n",
       "    <tr>\n",
       "      <th>0</th>\n",
       "      <td>Acura</td>\n",
       "      <td>Integra</td>\n",
       "      <td>16.919</td>\n",
       "      <td>16.36</td>\n",
       "      <td>Passenger</td>\n",
       "      <td>21.5</td>\n",
       "      <td>1.8</td>\n",
       "      <td>140</td>\n",
       "      <td>101.2</td>\n",
       "      <td>67.3</td>\n",
       "      <td>172.4</td>\n",
       "      <td>2.639</td>\n",
       "      <td>13.2</td>\n",
       "      <td>28</td>\n",
       "      <td>2-Feb-14</td>\n",
       "    </tr>\n",
       "    <tr>\n",
       "      <th>1</th>\n",
       "      <td>Acura</td>\n",
       "      <td>TL</td>\n",
       "      <td>39.384</td>\n",
       "      <td>19.875</td>\n",
       "      <td>Passenger</td>\n",
       "      <td>28.4</td>\n",
       "      <td>3.2</td>\n",
       "      <td>225</td>\n",
       "      <td>108.1</td>\n",
       "      <td>70.3</td>\n",
       "      <td>192.9</td>\n",
       "      <td>3.517</td>\n",
       "      <td>17.2</td>\n",
       "      <td>25</td>\n",
       "      <td>6-Mar-15</td>\n",
       "    </tr>\n",
       "    <tr>\n",
       "      <th>2</th>\n",
       "      <td>Acura</td>\n",
       "      <td>CL</td>\n",
       "      <td>14.114</td>\n",
       "      <td>18.225</td>\n",
       "      <td>Passenger</td>\n",
       "      <td>.</td>\n",
       "      <td>3.2</td>\n",
       "      <td>225</td>\n",
       "      <td>106.9</td>\n",
       "      <td>70.6</td>\n",
       "      <td>192</td>\n",
       "      <td>3.47</td>\n",
       "      <td>17.2</td>\n",
       "      <td>26</td>\n",
       "      <td>1-Apr-14</td>\n",
       "    </tr>\n",
       "    <tr>\n",
       "      <th>3</th>\n",
       "      <td>Acura</td>\n",
       "      <td>RL</td>\n",
       "      <td>8.588</td>\n",
       "      <td>29.725</td>\n",
       "      <td>Passenger</td>\n",
       "      <td>42</td>\n",
       "      <td>3.5</td>\n",
       "      <td>210</td>\n",
       "      <td>114.6</td>\n",
       "      <td>71.4</td>\n",
       "      <td>196.6</td>\n",
       "      <td>3.85</td>\n",
       "      <td>18</td>\n",
       "      <td>22</td>\n",
       "      <td>3-Oct-15</td>\n",
       "    </tr>\n",
       "    <tr>\n",
       "      <th>4</th>\n",
       "      <td>Audi</td>\n",
       "      <td>A4</td>\n",
       "      <td>20.397</td>\n",
       "      <td>22.255</td>\n",
       "      <td>Passenger</td>\n",
       "      <td>23.99</td>\n",
       "      <td>1.8</td>\n",
       "      <td>150</td>\n",
       "      <td>102.6</td>\n",
       "      <td>68.2</td>\n",
       "      <td>178</td>\n",
       "      <td>2.998</td>\n",
       "      <td>16.4</td>\n",
       "      <td>27</td>\n",
       "      <td>10-Aug-15</td>\n",
       "    </tr>\n",
       "  </tbody>\n",
       "</table>\n",
       "</div>"
      ],
      "text/plain": [
       "    Manufacturer              Model  Sales in thousands 4-year resale value  \\\n",
       "0  Acura          Integra                        16.919               16.36   \n",
       "1  Acura          TL                             39.384              19.875   \n",
       "2  Acura          CL                             14.114              18.225   \n",
       "3  Acura          RL                              8.588              29.725   \n",
       "4  Audi           A4                             20.397              22.255   \n",
       "\n",
       "  Vehicle type Price in thousands Engine size Horsepower Wheelbase Width  \\\n",
       "0    Passenger               21.5         1.8        140     101.2  67.3   \n",
       "1    Passenger               28.4         3.2        225     108.1  70.3   \n",
       "2    Passenger                  .         3.2        225     106.9  70.6   \n",
       "3    Passenger                 42         3.5        210     114.6  71.4   \n",
       "4    Passenger              23.99         1.8        150     102.6  68.2   \n",
       "\n",
       "  Length Curb weight Fuel capacity Fuel efficiency Latest Launch  \n",
       "0  172.4       2.639          13.2              28      2-Feb-14  \n",
       "1  192.9       3.517          17.2              25      6-Mar-15  \n",
       "2    192        3.47          17.2              26      1-Apr-14  \n",
       "3  196.6        3.85            18              22      3-Oct-15  \n",
       "4    178       2.998          16.4              27     10-Aug-15  "
      ]
     },
     "execution_count": 6,
     "metadata": {},
     "output_type": "execute_result"
    }
   ],
   "source": [
    "df.head()"
   ]
  },
  {
   "cell_type": "code",
   "execution_count": 7,
   "id": "a014a13e-a8e9-4b30-9929-d630f04490a0",
   "metadata": {},
   "outputs": [
    {
     "data": {
      "text/plain": [
       "pandas.core.frame.DataFrame"
      ]
     },
     "execution_count": 7,
     "metadata": {},
     "output_type": "execute_result"
    }
   ],
   "source": [
    "type(df)"
   ]
  },
  {
   "cell_type": "code",
   "execution_count": 8,
   "id": "d6c0e3d9-4cca-447f-872e-5ad80b61c5f6",
   "metadata": {},
   "outputs": [
    {
     "data": {
      "text/plain": [
       "(157, 15)"
      ]
     },
     "execution_count": 8,
     "metadata": {},
     "output_type": "execute_result"
    }
   ],
   "source": [
    "df.shape"
   ]
  },
  {
   "cell_type": "code",
   "execution_count": 9,
   "id": "0bc5fd17-6b7c-4a5d-b326-9ee7157c6318",
   "metadata": {},
   "outputs": [
    {
     "data": {
      "text/plain": [
       "157"
      ]
     },
     "execution_count": 9,
     "metadata": {},
     "output_type": "execute_result"
    }
   ],
   "source": [
    "df.shape[0]"
   ]
  },
  {
   "cell_type": "code",
   "execution_count": 10,
   "id": "acbf358c-c3b4-4d0c-b5ce-2a666735c651",
   "metadata": {},
   "outputs": [
    {
     "data": {
      "text/plain": [
       "15"
      ]
     },
     "execution_count": 10,
     "metadata": {},
     "output_type": "execute_result"
    }
   ],
   "source": [
    "df.shape[1]"
   ]
  },
  {
   "cell_type": "code",
   "execution_count": 11,
   "id": "c8ef74a7-7161-4bca-9fcd-f3d2797ac837",
   "metadata": {},
   "outputs": [
    {
     "data": {
      "text/plain": [
       "tuple"
      ]
     },
     "execution_count": 11,
     "metadata": {},
     "output_type": "execute_result"
    }
   ],
   "source": [
    "type(df.shape)"
   ]
  },
  {
   "cell_type": "code",
   "execution_count": 12,
   "id": "3dc6a93a-5745-4bd9-a8fc-78ff10895bbe",
   "metadata": {},
   "outputs": [
    {
     "data": {
      "text/plain": [
       "int"
      ]
     },
     "execution_count": 12,
     "metadata": {},
     "output_type": "execute_result"
    }
   ],
   "source": [
    "type(df.shape[0])"
   ]
  },
  {
   "cell_type": "code",
   "execution_count": 13,
   "id": "01f88c32-b02b-4ba4-98ed-f13ae137df39",
   "metadata": {},
   "outputs": [
    {
     "name": "stdout",
     "output_type": "stream",
     "text": [
      "<class 'pandas.core.frame.DataFrame'>\n",
      "RangeIndex: 157 entries, 0 to 156\n",
      "Data columns (total 15 columns):\n",
      " #   Column               Non-Null Count  Dtype  \n",
      "---  ------               --------------  -----  \n",
      " 0   Manufacturer         157 non-null    object \n",
      " 1   Model                157 non-null    object \n",
      " 2   Sales in thousands   157 non-null    float64\n",
      " 3   4-year resale value  157 non-null    object \n",
      " 4   Vehicle type         157 non-null    object \n",
      " 5   Price in thousands   157 non-null    object \n",
      " 6   Engine size          157 non-null    object \n",
      " 7   Horsepower           157 non-null    object \n",
      " 8   Wheelbase            157 non-null    object \n",
      " 9   Width                157 non-null    object \n",
      " 10  Length               157 non-null    object \n",
      " 11  Curb weight          157 non-null    object \n",
      " 12  Fuel capacity        157 non-null    object \n",
      " 13  Fuel efficiency      157 non-null    object \n",
      " 14  Latest Launch        157 non-null    object \n",
      "dtypes: float64(1), object(14)\n",
      "memory usage: 18.5+ KB\n"
     ]
    }
   ],
   "source": [
    "df.info() #Print a concise summary of a DataFrame."
   ]
  },
  {
   "cell_type": "code",
   "execution_count": 14,
   "id": "baed7534-a96e-4d31-b5cc-7e65903e03ff",
   "metadata": {},
   "outputs": [
    {
     "data": {
      "text/html": [
       "<div>\n",
       "<style scoped>\n",
       "    .dataframe tbody tr th:only-of-type {\n",
       "        vertical-align: middle;\n",
       "    }\n",
       "\n",
       "    .dataframe tbody tr th {\n",
       "        vertical-align: top;\n",
       "    }\n",
       "\n",
       "    .dataframe thead th {\n",
       "        text-align: right;\n",
       "    }\n",
       "</style>\n",
       "<table border=\"1\" class=\"dataframe\">\n",
       "  <thead>\n",
       "    <tr style=\"text-align: right;\">\n",
       "      <th></th>\n",
       "      <th>Sales in thousands</th>\n",
       "    </tr>\n",
       "  </thead>\n",
       "  <tbody>\n",
       "    <tr>\n",
       "      <th>count</th>\n",
       "      <td>157.000000</td>\n",
       "    </tr>\n",
       "    <tr>\n",
       "      <th>mean</th>\n",
       "      <td>52.998076</td>\n",
       "    </tr>\n",
       "    <tr>\n",
       "      <th>std</th>\n",
       "      <td>68.029422</td>\n",
       "    </tr>\n",
       "    <tr>\n",
       "      <th>min</th>\n",
       "      <td>0.110000</td>\n",
       "    </tr>\n",
       "    <tr>\n",
       "      <th>25%</th>\n",
       "      <td>14.114000</td>\n",
       "    </tr>\n",
       "    <tr>\n",
       "      <th>50%</th>\n",
       "      <td>29.450000</td>\n",
       "    </tr>\n",
       "    <tr>\n",
       "      <th>75%</th>\n",
       "      <td>67.956000</td>\n",
       "    </tr>\n",
       "    <tr>\n",
       "      <th>max</th>\n",
       "      <td>540.561000</td>\n",
       "    </tr>\n",
       "  </tbody>\n",
       "</table>\n",
       "</div>"
      ],
      "text/plain": [
       "       Sales in thousands\n",
       "count          157.000000\n",
       "mean            52.998076\n",
       "std             68.029422\n",
       "min              0.110000\n",
       "25%             14.114000\n",
       "50%             29.450000\n",
       "75%             67.956000\n",
       "max            540.561000"
      ]
     },
     "execution_count": 14,
     "metadata": {},
     "output_type": "execute_result"
    }
   ],
   "source": [
    "df.describe() #Generate descriptive statistics."
   ]
  },
  {
   "cell_type": "code",
   "execution_count": 15,
   "id": "988d5530-d841-4664-bc0f-f3b019e8459f",
   "metadata": {},
   "outputs": [
    {
     "data": {
      "text/plain": [
       "Manufacturer            object\n",
       "Model                   object\n",
       "Sales in thousands     float64\n",
       "4-year resale value     object\n",
       "Vehicle type            object\n",
       "Price in thousands      object\n",
       "Engine size             object\n",
       "Horsepower              object\n",
       "Wheelbase               object\n",
       "Width                   object\n",
       "Length                  object\n",
       "Curb weight             object\n",
       "Fuel capacity           object\n",
       "Fuel efficiency         object\n",
       "Latest Launch           object\n",
       "dtype: object"
      ]
     },
     "execution_count": 15,
     "metadata": {},
     "output_type": "execute_result"
    }
   ],
   "source": [
    "# Return the dtypes in the DataFrame.\n",
    "\n",
    "df.dtypes #of each colums"
   ]
  },
  {
   "cell_type": "code",
   "execution_count": 16,
   "id": "cb2bbe65-a623-45ca-bcaa-2b4522f46788",
   "metadata": {},
   "outputs": [
    {
     "data": {
      "text/plain": [
       "15"
      ]
     },
     "execution_count": 16,
     "metadata": {},
     "output_type": "execute_result"
    }
   ],
   "source": [
    "(df.dtypes).count()"
   ]
  },
  {
   "cell_type": "code",
   "execution_count": 17,
   "id": "a7843afa-bfd1-4e26-9352-0d6f8bfc3dcc",
   "metadata": {},
   "outputs": [
    {
     "name": "stdout",
     "output_type": "stream",
     "text": [
      "157\n",
      "15\n"
     ]
    }
   ],
   "source": [
    "print(df.shape[0]) #→ Number of rows (records)\n",
    "print(df.shape[1]) #→ Number of columns (attributes)"
   ]
  },
  {
   "cell_type": "markdown",
   "id": "d568a346-48b6-4011-a70e-c2374a594630",
   "metadata": {},
   "source": [
    "## cleaning duplicates"
   ]
  },
  {
   "cell_type": "code",
   "execution_count": 18,
   "id": "5942fb14-21dc-4543-b7e0-1dcfd3e69a37",
   "metadata": {},
   "outputs": [],
   "source": [
    "cleaned_values=df.drop_duplicates()"
   ]
  },
  {
   "cell_type": "code",
   "execution_count": 19,
   "id": "36e06909-7d7d-443b-b34e-e1ae52e6d112",
   "metadata": {},
   "outputs": [
    {
     "data": {
      "text/plain": [
       "(157, 15)"
      ]
     },
     "execution_count": 19,
     "metadata": {},
     "output_type": "execute_result"
    }
   ],
   "source": [
    "df.shape"
   ]
  },
  {
   "cell_type": "code",
   "execution_count": 20,
   "id": "e426b6d8-4915-42e9-ab66-6f27e625a386",
   "metadata": {},
   "outputs": [
    {
     "data": {
      "text/plain": [
       "(157, 15)"
      ]
     },
     "execution_count": 20,
     "metadata": {},
     "output_type": "execute_result"
    }
   ],
   "source": [
    "cleaned_values.shape"
   ]
  },
  {
   "cell_type": "code",
   "execution_count": 21,
   "id": "8c8cda12-0d52-4bde-ae8c-42d2dd9ee3d1",
   "metadata": {},
   "outputs": [],
   "source": [
    "# Missing Values in Each Column"
   ]
  },
  {
   "cell_type": "code",
   "execution_count": 22,
   "id": "050898cc-ae65-435d-8baf-2557f94c053e",
   "metadata": {},
   "outputs": [
    {
     "data": {
      "text/plain": [
       "Manufacturer           0\n",
       "Model                  0\n",
       "Sales in thousands     0\n",
       "4-year resale value    0\n",
       "Vehicle type           0\n",
       "Price in thousands     0\n",
       "Engine size            0\n",
       "Horsepower             0\n",
       "Wheelbase              0\n",
       "Width                  0\n",
       "Length                 0\n",
       "Curb weight            0\n",
       "Fuel capacity          0\n",
       "Fuel efficiency        0\n",
       "Latest Launch          0\n",
       "dtype: int64"
      ]
     },
     "execution_count": 22,
     "metadata": {},
     "output_type": "execute_result"
    }
   ],
   "source": [
    "df.isnull().sum()"
   ]
  },
  {
   "cell_type": "code",
   "execution_count": 23,
   "id": "1b04ebc0-b8c0-4e05-ba56-1b8952f203b6",
   "metadata": {},
   "outputs": [
    {
     "data": {
      "text/plain": [
       "'Manufacturer'"
      ]
     },
     "execution_count": 23,
     "metadata": {},
     "output_type": "execute_result"
    }
   ],
   "source": [
    "df.isnull().sum().idxmax()#finds the column with the most missing values."
   ]
  },
  {
   "cell_type": "code",
   "execution_count": 24,
   "id": "7406aa1f-b35e-45ba-b911-dd08e5d96ac7",
   "metadata": {},
   "outputs": [
    {
     "data": {
      "text/html": [
       "<div>\n",
       "<style scoped>\n",
       "    .dataframe tbody tr th:only-of-type {\n",
       "        vertical-align: middle;\n",
       "    }\n",
       "\n",
       "    .dataframe tbody tr th {\n",
       "        vertical-align: top;\n",
       "    }\n",
       "\n",
       "    .dataframe thead th {\n",
       "        text-align: right;\n",
       "    }\n",
       "</style>\n",
       "<table border=\"1\" class=\"dataframe\">\n",
       "  <thead>\n",
       "    <tr style=\"text-align: right;\">\n",
       "      <th></th>\n",
       "      <th>Model</th>\n",
       "      <th>Sales in thousands</th>\n",
       "      <th>4-year resale value</th>\n",
       "      <th>Vehicle type</th>\n",
       "      <th>Price in thousands</th>\n",
       "      <th>Engine size</th>\n",
       "      <th>Horsepower</th>\n",
       "      <th>Wheelbase</th>\n",
       "      <th>Width</th>\n",
       "      <th>Length</th>\n",
       "      <th>Curb weight</th>\n",
       "      <th>Fuel capacity</th>\n",
       "      <th>Fuel efficiency</th>\n",
       "      <th>Latest Launch</th>\n",
       "    </tr>\n",
       "  </thead>\n",
       "  <tbody>\n",
       "    <tr>\n",
       "      <th>0</th>\n",
       "      <td>Integra</td>\n",
       "      <td>16.919</td>\n",
       "      <td>16.36</td>\n",
       "      <td>Passenger</td>\n",
       "      <td>21.5</td>\n",
       "      <td>1.8</td>\n",
       "      <td>140</td>\n",
       "      <td>101.2</td>\n",
       "      <td>67.3</td>\n",
       "      <td>172.4</td>\n",
       "      <td>2.639</td>\n",
       "      <td>13.2</td>\n",
       "      <td>28</td>\n",
       "      <td>2-Feb-14</td>\n",
       "    </tr>\n",
       "    <tr>\n",
       "      <th>1</th>\n",
       "      <td>TL</td>\n",
       "      <td>39.384</td>\n",
       "      <td>19.875</td>\n",
       "      <td>Passenger</td>\n",
       "      <td>28.4</td>\n",
       "      <td>3.2</td>\n",
       "      <td>225</td>\n",
       "      <td>108.1</td>\n",
       "      <td>70.3</td>\n",
       "      <td>192.9</td>\n",
       "      <td>3.517</td>\n",
       "      <td>17.2</td>\n",
       "      <td>25</td>\n",
       "      <td>6-Mar-15</td>\n",
       "    </tr>\n",
       "    <tr>\n",
       "      <th>2</th>\n",
       "      <td>CL</td>\n",
       "      <td>14.114</td>\n",
       "      <td>18.225</td>\n",
       "      <td>Passenger</td>\n",
       "      <td>.</td>\n",
       "      <td>3.2</td>\n",
       "      <td>225</td>\n",
       "      <td>106.9</td>\n",
       "      <td>70.6</td>\n",
       "      <td>192</td>\n",
       "      <td>3.47</td>\n",
       "      <td>17.2</td>\n",
       "      <td>26</td>\n",
       "      <td>1-Apr-14</td>\n",
       "    </tr>\n",
       "    <tr>\n",
       "      <th>3</th>\n",
       "      <td>RL</td>\n",
       "      <td>8.588</td>\n",
       "      <td>29.725</td>\n",
       "      <td>Passenger</td>\n",
       "      <td>42</td>\n",
       "      <td>3.5</td>\n",
       "      <td>210</td>\n",
       "      <td>114.6</td>\n",
       "      <td>71.4</td>\n",
       "      <td>196.6</td>\n",
       "      <td>3.85</td>\n",
       "      <td>18</td>\n",
       "      <td>22</td>\n",
       "      <td>3-Oct-15</td>\n",
       "    </tr>\n",
       "    <tr>\n",
       "      <th>4</th>\n",
       "      <td>A4</td>\n",
       "      <td>20.397</td>\n",
       "      <td>22.255</td>\n",
       "      <td>Passenger</td>\n",
       "      <td>23.99</td>\n",
       "      <td>1.8</td>\n",
       "      <td>150</td>\n",
       "      <td>102.6</td>\n",
       "      <td>68.2</td>\n",
       "      <td>178</td>\n",
       "      <td>2.998</td>\n",
       "      <td>16.4</td>\n",
       "      <td>27</td>\n",
       "      <td>10-Aug-15</td>\n",
       "    </tr>\n",
       "    <tr>\n",
       "      <th>...</th>\n",
       "      <td>...</td>\n",
       "      <td>...</td>\n",
       "      <td>...</td>\n",
       "      <td>...</td>\n",
       "      <td>...</td>\n",
       "      <td>...</td>\n",
       "      <td>...</td>\n",
       "      <td>...</td>\n",
       "      <td>...</td>\n",
       "      <td>...</td>\n",
       "      <td>...</td>\n",
       "      <td>...</td>\n",
       "      <td>...</td>\n",
       "      <td>...</td>\n",
       "    </tr>\n",
       "    <tr>\n",
       "      <th>152</th>\n",
       "      <td>V40</td>\n",
       "      <td>3.545</td>\n",
       "      <td>.</td>\n",
       "      <td>Passenger</td>\n",
       "      <td>24.4</td>\n",
       "      <td>1.9</td>\n",
       "      <td>160</td>\n",
       "      <td>100.5</td>\n",
       "      <td>67.6</td>\n",
       "      <td>176.6</td>\n",
       "      <td>3.042</td>\n",
       "      <td>15.8</td>\n",
       "      <td>25</td>\n",
       "      <td>21-Sep-15</td>\n",
       "    </tr>\n",
       "    <tr>\n",
       "      <th>153</th>\n",
       "      <td>S70</td>\n",
       "      <td>15.245</td>\n",
       "      <td>.</td>\n",
       "      <td>Passenger</td>\n",
       "      <td>27.5</td>\n",
       "      <td>2.4</td>\n",
       "      <td>168</td>\n",
       "      <td>104.9</td>\n",
       "      <td>69.3</td>\n",
       "      <td>185.9</td>\n",
       "      <td>3.208</td>\n",
       "      <td>17.9</td>\n",
       "      <td>25</td>\n",
       "      <td>24-Nov-14</td>\n",
       "    </tr>\n",
       "    <tr>\n",
       "      <th>154</th>\n",
       "      <td>V70</td>\n",
       "      <td>17.531</td>\n",
       "      <td>.</td>\n",
       "      <td>Passenger</td>\n",
       "      <td>28.8</td>\n",
       "      <td>2.4</td>\n",
       "      <td>168</td>\n",
       "      <td>104.9</td>\n",
       "      <td>69.3</td>\n",
       "      <td>186.2</td>\n",
       "      <td>3.259</td>\n",
       "      <td>17.9</td>\n",
       "      <td>25</td>\n",
       "      <td>25-Jun-15</td>\n",
       "    </tr>\n",
       "    <tr>\n",
       "      <th>155</th>\n",
       "      <td>C70</td>\n",
       "      <td>3.493</td>\n",
       "      <td>.</td>\n",
       "      <td>Passenger</td>\n",
       "      <td>45.5</td>\n",
       "      <td>2.3</td>\n",
       "      <td>236</td>\n",
       "      <td>104.9</td>\n",
       "      <td>71.5</td>\n",
       "      <td>185.7</td>\n",
       "      <td>3.601</td>\n",
       "      <td>18.5</td>\n",
       "      <td>23</td>\n",
       "      <td>26-Apr-15</td>\n",
       "    </tr>\n",
       "    <tr>\n",
       "      <th>156</th>\n",
       "      <td>S80</td>\n",
       "      <td>18.969</td>\n",
       "      <td>.</td>\n",
       "      <td>Passenger</td>\n",
       "      <td>36</td>\n",
       "      <td>2.9</td>\n",
       "      <td>201</td>\n",
       "      <td>109.9</td>\n",
       "      <td>72.1</td>\n",
       "      <td>189.8</td>\n",
       "      <td>3.6</td>\n",
       "      <td>21.1</td>\n",
       "      <td>24</td>\n",
       "      <td>14-Nov-15</td>\n",
       "    </tr>\n",
       "  </tbody>\n",
       "</table>\n",
       "<p>157 rows × 14 columns</p>\n",
       "</div>"
      ],
      "text/plain": [
       "                 Model  Sales in thousands 4-year resale value Vehicle type  \\\n",
       "0    Integra                        16.919               16.36    Passenger   \n",
       "1    TL                             39.384              19.875    Passenger   \n",
       "2    CL                             14.114              18.225    Passenger   \n",
       "3    RL                              8.588              29.725    Passenger   \n",
       "4    A4                             20.397              22.255    Passenger   \n",
       "..                 ...                 ...                 ...          ...   \n",
       "152  V40                             3.545                   .    Passenger   \n",
       "153  S70                            15.245                   .    Passenger   \n",
       "154  V70                            17.531                   .    Passenger   \n",
       "155  C70                             3.493                   .    Passenger   \n",
       "156  S80                            18.969                   .    Passenger   \n",
       "\n",
       "    Price in thousands Engine size Horsepower Wheelbase Width Length  \\\n",
       "0                 21.5         1.8        140     101.2  67.3  172.4   \n",
       "1                 28.4         3.2        225     108.1  70.3  192.9   \n",
       "2                    .         3.2        225     106.9  70.6    192   \n",
       "3                   42         3.5        210     114.6  71.4  196.6   \n",
       "4                23.99         1.8        150     102.6  68.2    178   \n",
       "..                 ...         ...        ...       ...   ...    ...   \n",
       "152               24.4         1.9        160     100.5  67.6  176.6   \n",
       "153               27.5         2.4        168     104.9  69.3  185.9   \n",
       "154               28.8         2.4        168     104.9  69.3  186.2   \n",
       "155               45.5         2.3        236     104.9  71.5  185.7   \n",
       "156                 36         2.9        201     109.9  72.1  189.8   \n",
       "\n",
       "    Curb weight Fuel capacity Fuel efficiency Latest Launch  \n",
       "0         2.639          13.2              28      2-Feb-14  \n",
       "1         3.517          17.2              25      6-Mar-15  \n",
       "2          3.47          17.2              26      1-Apr-14  \n",
       "3          3.85            18              22      3-Oct-15  \n",
       "4         2.998          16.4              27     10-Aug-15  \n",
       "..          ...           ...             ...           ...  \n",
       "152       3.042          15.8              25     21-Sep-15  \n",
       "153       3.208          17.9              25     24-Nov-14  \n",
       "154       3.259          17.9              25     25-Jun-15  \n",
       "155       3.601          18.5              23     26-Apr-15  \n",
       "156         3.6          21.1              24     14-Nov-15  \n",
       "\n",
       "[157 rows x 14 columns]"
      ]
     },
     "execution_count": 24,
     "metadata": {},
     "output_type": "execute_result"
    }
   ],
   "source": [
    "df.drop(columns=['Manufacturer']) #removes it."
   ]
  },
  {
   "cell_type": "markdown",
   "id": "f40c253f-f834-4d74-930b-55c3c46e0839",
   "metadata": {},
   "source": [
    "## Impute (Fill) Missing Numerical Values"
   ]
  },
  {
   "cell_type": "code",
   "execution_count": 25,
   "id": "cc78d62d-96e3-4a83-a69d-e6f6beff3be9",
   "metadata": {},
   "outputs": [
    {
     "data": {
      "text/plain": [
       "Manufacturer           0\n",
       "Model                  0\n",
       "Sales in thousands     0\n",
       "4-year resale value    0\n",
       "Vehicle type           0\n",
       "Price in thousands     0\n",
       "Engine size            0\n",
       "Horsepower             0\n",
       "Wheelbase              0\n",
       "Width                  0\n",
       "Length                 0\n",
       "Curb weight            0\n",
       "Fuel capacity          0\n",
       "Fuel efficiency        0\n",
       "Latest Launch          0\n",
       "dtype: int64"
      ]
     },
     "execution_count": 25,
     "metadata": {},
     "output_type": "execute_result"
    }
   ],
   "source": [
    "df.isnull().sum()"
   ]
  },
  {
   "cell_type": "code",
   "execution_count": 26,
   "id": "37b80f78-16e6-46dd-9923-34e8518af5e8",
   "metadata": {},
   "outputs": [
    {
     "data": {
      "text/plain": [
       "0      Integra          \n",
       "1      TL               \n",
       "2      CL               \n",
       "3      RL               \n",
       "4      A4               \n",
       "             ...        \n",
       "152    V40              \n",
       "153    S70              \n",
       "154    V70              \n",
       "155    C70              \n",
       "156    S80              \n",
       "Name: Model, Length: 157, dtype: object"
      ]
     },
     "execution_count": 26,
     "metadata": {},
     "output_type": "execute_result"
    }
   ],
   "source": [
    "df['Model']"
   ]
  },
  {
   "cell_type": "code",
   "execution_count": 27,
   "id": "b3406563-da7a-4ef1-b4fe-3b9835069049",
   "metadata": {},
   "outputs": [],
   "source": [
    "#if null exists\n",
    "# df[\" \"].fillna(df[\" \"].mean(),inplace=True)\n",
    "# df[\"Model\"].fillna(df[\"Model\"].mean(), inplace=False)"
   ]
  },
  {
   "cell_type": "code",
   "execution_count": null,
   "id": "fcddb405-f2e0-4ca6-9b2c-00bf12a612b1",
   "metadata": {},
   "outputs": [],
   "source": []
  },
  {
   "cell_type": "code",
   "execution_count": 28,
   "id": "cdc5e428-3990-453e-a7e0-ba3c2f0833bc",
   "metadata": {},
   "outputs": [],
   "source": [
    "# df[\"Model\"].mode()[0]"
   ]
  },
  {
   "cell_type": "code",
   "execution_count": null,
   "id": "3e93ae17-9b7f-418a-adf0-7aca12d5f70e",
   "metadata": {},
   "outputs": [],
   "source": []
  },
  {
   "cell_type": "markdown",
   "id": "74652314-8f1b-4964-93da-d595f628512b",
   "metadata": {},
   "source": [
    "## Horsepower, Length, and Fuel Efficiency"
   ]
  },
  {
   "cell_type": "code",
   "execution_count": 29,
   "id": "adf3b313-2fbc-4555-81ac-0f01d4b1b44d",
   "metadata": {},
   "outputs": [],
   "source": [
    "def find_min_max(df, column_name):\n",
    "    # Get the min and max values\n",
    "    min_value = df[column_name].min()\n",
    "    max_value = df[column_name].max()\n",
    "    \n",
    "    # Find rows with the min and max values\n",
    "    min_row = df[df[column_name] == min_value]\n",
    "    max_row = df[df[column_name] == max_value]\n",
    "    \n",
    "    return min_value, max_value, min_row, max_row\n"
   ]
  },
  {
   "cell_type": "code",
   "execution_count": 30,
   "id": "28e57490-fe49-4b5d-9a6d-932fdfc5047c",
   "metadata": {},
   "outputs": [],
   "source": [
    "#calling above function\n",
    "min_val, max_val, min_row, max_row = find_min_max(df, \"Model\")\n"
   ]
  },
  {
   "cell_type": "code",
   "execution_count": 31,
   "id": "e319fe0a-72a2-4345-83e7-8a78afaf52be",
   "metadata": {},
   "outputs": [
    {
     "data": {
      "text/plain": [
       "'3-Sep'"
      ]
     },
     "execution_count": 31,
     "metadata": {},
     "output_type": "execute_result"
    }
   ],
   "source": [
    "min_val"
   ]
  },
  {
   "cell_type": "code",
   "execution_count": 32,
   "id": "60da3337-2eb8-44f6-bd50-9782e725d86b",
   "metadata": {},
   "outputs": [
    {
     "data": {
      "text/plain": [
       "'Xterra           '"
      ]
     },
     "execution_count": 32,
     "metadata": {},
     "output_type": "execute_result"
    }
   ],
   "source": [
    "max_val"
   ]
  },
  {
   "cell_type": "code",
   "execution_count": 33,
   "id": "33060048-1602-486c-b0e1-075a5a372435",
   "metadata": {},
   "outputs": [
    {
     "data": {
      "text/html": [
       "<div>\n",
       "<style scoped>\n",
       "    .dataframe tbody tr th:only-of-type {\n",
       "        vertical-align: middle;\n",
       "    }\n",
       "\n",
       "    .dataframe tbody tr th {\n",
       "        vertical-align: top;\n",
       "    }\n",
       "\n",
       "    .dataframe thead th {\n",
       "        text-align: right;\n",
       "    }\n",
       "</style>\n",
       "<table border=\"1\" class=\"dataframe\">\n",
       "  <thead>\n",
       "    <tr style=\"text-align: right;\">\n",
       "      <th></th>\n",
       "      <th>Manufacturer</th>\n",
       "      <th>Model</th>\n",
       "      <th>Sales in thousands</th>\n",
       "      <th>4-year resale value</th>\n",
       "      <th>Vehicle type</th>\n",
       "      <th>Price in thousands</th>\n",
       "      <th>Engine size</th>\n",
       "      <th>Horsepower</th>\n",
       "      <th>Wheelbase</th>\n",
       "      <th>Width</th>\n",
       "      <th>Length</th>\n",
       "      <th>Curb weight</th>\n",
       "      <th>Fuel capacity</th>\n",
       "      <th>Fuel efficiency</th>\n",
       "      <th>Latest Launch</th>\n",
       "    </tr>\n",
       "  </thead>\n",
       "  <tbody>\n",
       "    <tr>\n",
       "      <th>128</th>\n",
       "      <td>Saab</td>\n",
       "      <td>3-Sep</td>\n",
       "      <td>12.115</td>\n",
       "      <td>.</td>\n",
       "      <td>Passenger</td>\n",
       "      <td>26.1</td>\n",
       "      <td>2</td>\n",
       "      <td>185</td>\n",
       "      <td>102.6</td>\n",
       "      <td>67.4</td>\n",
       "      <td>182.2</td>\n",
       "      <td>2.99</td>\n",
       "      <td>16.9</td>\n",
       "      <td>23</td>\n",
       "      <td>6-Dec-15</td>\n",
       "    </tr>\n",
       "  </tbody>\n",
       "</table>\n",
       "</div>"
      ],
      "text/plain": [
       "      Manufacturer  Model  Sales in thousands 4-year resale value  \\\n",
       "128  Saab           3-Sep              12.115                   .   \n",
       "\n",
       "    Vehicle type Price in thousands Engine size Horsepower Wheelbase Width  \\\n",
       "128    Passenger               26.1           2        185     102.6  67.4   \n",
       "\n",
       "    Length Curb weight Fuel capacity Fuel efficiency Latest Launch  \n",
       "128  182.2        2.99          16.9              23      6-Dec-15  "
      ]
     },
     "execution_count": 33,
     "metadata": {},
     "output_type": "execute_result"
    }
   ],
   "source": [
    "min_row"
   ]
  },
  {
   "cell_type": "code",
   "execution_count": 34,
   "id": "bdb24145-0665-469c-9517-7d7ceb417fca",
   "metadata": {},
   "outputs": [
    {
     "data": {
      "text/html": [
       "<div>\n",
       "<style scoped>\n",
       "    .dataframe tbody tr th:only-of-type {\n",
       "        vertical-align: middle;\n",
       "    }\n",
       "\n",
       "    .dataframe tbody tr th {\n",
       "        vertical-align: top;\n",
       "    }\n",
       "\n",
       "    .dataframe thead th {\n",
       "        text-align: right;\n",
       "    }\n",
       "</style>\n",
       "<table border=\"1\" class=\"dataframe\">\n",
       "  <thead>\n",
       "    <tr style=\"text-align: right;\">\n",
       "      <th></th>\n",
       "      <th>Manufacturer</th>\n",
       "      <th>Model</th>\n",
       "      <th>Sales in thousands</th>\n",
       "      <th>4-year resale value</th>\n",
       "      <th>Vehicle type</th>\n",
       "      <th>Price in thousands</th>\n",
       "      <th>Engine size</th>\n",
       "      <th>Horsepower</th>\n",
       "      <th>Wheelbase</th>\n",
       "      <th>Width</th>\n",
       "      <th>Length</th>\n",
       "      <th>Curb weight</th>\n",
       "      <th>Fuel capacity</th>\n",
       "      <th>Fuel efficiency</th>\n",
       "      <th>Latest Launch</th>\n",
       "    </tr>\n",
       "  </thead>\n",
       "  <tbody>\n",
       "    <tr>\n",
       "      <th>106</th>\n",
       "      <td>Nissan</td>\n",
       "      <td>Xterra</td>\n",
       "      <td>54.158</td>\n",
       "      <td>.</td>\n",
       "      <td>Car</td>\n",
       "      <td>22.799</td>\n",
       "      <td>3.3</td>\n",
       "      <td>170</td>\n",
       "      <td>104.3</td>\n",
       "      <td>70.4</td>\n",
       "      <td>178</td>\n",
       "      <td>3.821</td>\n",
       "      <td>19.4</td>\n",
       "      <td>18</td>\n",
       "      <td>24-Jan-15</td>\n",
       "    </tr>\n",
       "  </tbody>\n",
       "</table>\n",
       "</div>"
      ],
      "text/plain": [
       "      Manufacturer              Model  Sales in thousands 4-year resale value  \\\n",
       "106  Nissan         Xterra                         54.158                   .   \n",
       "\n",
       "    Vehicle type Price in thousands Engine size Horsepower Wheelbase Width  \\\n",
       "106          Car             22.799         3.3        170     104.3  70.4   \n",
       "\n",
       "    Length Curb weight Fuel capacity Fuel efficiency Latest Launch  \n",
       "106    178       3.821          19.4              18     24-Jan-15  "
      ]
     },
     "execution_count": 34,
     "metadata": {},
     "output_type": "execute_result"
    }
   ],
   "source": [
    "max_row"
   ]
  },
  {
   "cell_type": "code",
   "execution_count": 35,
   "id": "9ffb79ef-b1d0-4956-b3d1-d3fdc15f3533",
   "metadata": {},
   "outputs": [],
   "source": [
    "hp_min, hp_max, hp_min_row, hp_max_row = find_min_max(df,\"Horsepower\")"
   ]
  },
  {
   "cell_type": "code",
   "execution_count": 36,
   "id": "fe4f3ef3-91b2-4348-b801-567f209a6df1",
   "metadata": {},
   "outputs": [
    {
     "data": {
      "text/plain": [
       "'.'"
      ]
     },
     "execution_count": 36,
     "metadata": {},
     "output_type": "execute_result"
    }
   ],
   "source": [
    "hp_min"
   ]
  },
  {
   "cell_type": "code",
   "execution_count": 37,
   "id": "04222a79-d815-48b6-8db3-3102483cd377",
   "metadata": {},
   "outputs": [
    {
     "data": {
      "text/plain": [
       "'92'"
      ]
     },
     "execution_count": 37,
     "metadata": {},
     "output_type": "execute_result"
    }
   ],
   "source": [
    "hp_max"
   ]
  },
  {
   "cell_type": "code",
   "execution_count": 38,
   "id": "ebde5464-d9b9-45c4-84a4-c2fb2c3bf18e",
   "metadata": {},
   "outputs": [
    {
     "data": {
      "text/html": [
       "<div>\n",
       "<style scoped>\n",
       "    .dataframe tbody tr th:only-of-type {\n",
       "        vertical-align: middle;\n",
       "    }\n",
       "\n",
       "    .dataframe tbody tr th {\n",
       "        vertical-align: top;\n",
       "    }\n",
       "\n",
       "    .dataframe thead th {\n",
       "        text-align: right;\n",
       "    }\n",
       "</style>\n",
       "<table border=\"1\" class=\"dataframe\">\n",
       "  <thead>\n",
       "    <tr style=\"text-align: right;\">\n",
       "      <th></th>\n",
       "      <th>Manufacturer</th>\n",
       "      <th>Model</th>\n",
       "      <th>Sales in thousands</th>\n",
       "      <th>4-year resale value</th>\n",
       "      <th>Vehicle type</th>\n",
       "      <th>Price in thousands</th>\n",
       "      <th>Engine size</th>\n",
       "      <th>Horsepower</th>\n",
       "      <th>Wheelbase</th>\n",
       "      <th>Width</th>\n",
       "      <th>Length</th>\n",
       "      <th>Curb weight</th>\n",
       "      <th>Fuel capacity</th>\n",
       "      <th>Fuel efficiency</th>\n",
       "      <th>Latest Launch</th>\n",
       "    </tr>\n",
       "  </thead>\n",
       "  <tbody>\n",
       "    <tr>\n",
       "      <th>33</th>\n",
       "      <td>Chrysler</td>\n",
       "      <td>Town &amp; Country</td>\n",
       "      <td>53.48</td>\n",
       "      <td>19.54</td>\n",
       "      <td>Car</td>\n",
       "      <td>.</td>\n",
       "      <td>.</td>\n",
       "      <td>.</td>\n",
       "      <td>.</td>\n",
       "      <td>.</td>\n",
       "      <td>.</td>\n",
       "      <td>.</td>\n",
       "      <td>.</td>\n",
       "      <td>.</td>\n",
       "      <td>13-Jul-15</td>\n",
       "    </tr>\n",
       "  </tbody>\n",
       "</table>\n",
       "</div>"
      ],
      "text/plain": [
       "     Manufacturer              Model  Sales in thousands 4-year resale value  \\\n",
       "33  Chrysler       Town & Country                  53.48               19.54   \n",
       "\n",
       "   Vehicle type Price in thousands Engine size Horsepower Wheelbase Width  \\\n",
       "33          Car                  .           .          .         .     .   \n",
       "\n",
       "   Length Curb weight Fuel capacity Fuel efficiency Latest Launch  \n",
       "33      .           .             .               .     13-Jul-15  "
      ]
     },
     "execution_count": 38,
     "metadata": {},
     "output_type": "execute_result"
    }
   ],
   "source": [
    "hp_min_row"
   ]
  },
  {
   "cell_type": "code",
   "execution_count": 39,
   "id": "fe50b400-531b-4af6-abce-dcdb748cf8f9",
   "metadata": {},
   "outputs": [
    {
     "data": {
      "text/html": [
       "<div>\n",
       "<style scoped>\n",
       "    .dataframe tbody tr th:only-of-type {\n",
       "        vertical-align: middle;\n",
       "    }\n",
       "\n",
       "    .dataframe tbody tr th {\n",
       "        vertical-align: top;\n",
       "    }\n",
       "\n",
       "    .dataframe thead th {\n",
       "        text-align: right;\n",
       "    }\n",
       "</style>\n",
       "<table border=\"1\" class=\"dataframe\">\n",
       "  <thead>\n",
       "    <tr style=\"text-align: right;\">\n",
       "      <th></th>\n",
       "      <th>Manufacturer</th>\n",
       "      <th>Model</th>\n",
       "      <th>Sales in thousands</th>\n",
       "      <th>4-year resale value</th>\n",
       "      <th>Vehicle type</th>\n",
       "      <th>Price in thousands</th>\n",
       "      <th>Engine size</th>\n",
       "      <th>Horsepower</th>\n",
       "      <th>Wheelbase</th>\n",
       "      <th>Width</th>\n",
       "      <th>Length</th>\n",
       "      <th>Curb weight</th>\n",
       "      <th>Fuel capacity</th>\n",
       "      <th>Fuel efficiency</th>\n",
       "      <th>Latest Launch</th>\n",
       "    </tr>\n",
       "  </thead>\n",
       "  <tbody>\n",
       "    <tr>\n",
       "      <th>62</th>\n",
       "      <td>Hyundai</td>\n",
       "      <td>Accent</td>\n",
       "      <td>41.184</td>\n",
       "      <td>5.86</td>\n",
       "      <td>Passenger</td>\n",
       "      <td>9.699</td>\n",
       "      <td>1.5</td>\n",
       "      <td>92</td>\n",
       "      <td>96.1</td>\n",
       "      <td>65.7</td>\n",
       "      <td>166.7</td>\n",
       "      <td>2.24</td>\n",
       "      <td>11.9</td>\n",
       "      <td>31</td>\n",
       "      <td>9-Oct-14</td>\n",
       "    </tr>\n",
       "  </tbody>\n",
       "</table>\n",
       "</div>"
      ],
      "text/plain": [
       "     Manufacturer              Model  Sales in thousands 4-year resale value  \\\n",
       "62  Hyundai        Accent                         41.184                5.86   \n",
       "\n",
       "   Vehicle type Price in thousands Engine size Horsepower Wheelbase Width  \\\n",
       "62    Passenger              9.699         1.5         92      96.1  65.7   \n",
       "\n",
       "   Length Curb weight Fuel capacity Fuel efficiency Latest Launch  \n",
       "62  166.7        2.24          11.9              31      9-Oct-14  "
      ]
     },
     "execution_count": 39,
     "metadata": {},
     "output_type": "execute_result"
    }
   ],
   "source": [
    "hp_max_row"
   ]
  },
  {
   "cell_type": "code",
   "execution_count": 40,
   "id": "99d12460-cd1b-4876-bb99-b854355ba0ff",
   "metadata": {},
   "outputs": [
    {
     "data": {
      "text/plain": [
       "dtype('O')"
      ]
     },
     "execution_count": 40,
     "metadata": {},
     "output_type": "execute_result"
    }
   ],
   "source": [
    "df['Horsepower'].dtype"
   ]
  },
  {
   "cell_type": "code",
   "execution_count": 41,
   "id": "c51ac042-69f0-4a5c-b679-3d0b37b7aa6c",
   "metadata": {},
   "outputs": [],
   "source": [
    "df['Horsepower'] = pd.to_numeric(df['Horsepower'], errors='coerce')  # Invalid entries become NaN\n",
    "\n",
    "df['Horsepower'] = df['Horsepower'].fillna(0).astype(int)  # Fill NaN and cast to int"
   ]
  },
  {
   "cell_type": "code",
   "execution_count": 42,
   "id": "8eb018b3-e9e5-4111-863c-90d10df4a25d",
   "metadata": {},
   "outputs": [
    {
     "data": {
      "text/plain": [
       "dtype('int64')"
      ]
     },
     "execution_count": 42,
     "metadata": {},
     "output_type": "execute_result"
    }
   ],
   "source": [
    "df['Horsepower'].dtype"
   ]
  },
  {
   "cell_type": "code",
   "execution_count": 43,
   "id": "47430f32-1e69-49be-9702-f5aff9f7f318",
   "metadata": {},
   "outputs": [
    {
     "data": {
      "text/plain": [
       "450"
      ]
     },
     "execution_count": 43,
     "metadata": {},
     "output_type": "execute_result"
    }
   ],
   "source": [
    "df['Horsepower'].max()"
   ]
  },
  {
   "cell_type": "code",
   "execution_count": 44,
   "id": "7ba4747e-1095-44c1-aa60-6a376c0e0375",
   "metadata": {},
   "outputs": [
    {
     "data": {
      "text/plain": [
       "184.76433121019107"
      ]
     },
     "execution_count": 44,
     "metadata": {},
     "output_type": "execute_result"
    }
   ],
   "source": [
    "df['Horsepower'].mean()"
   ]
  },
  {
   "cell_type": "markdown",
   "id": "fa698392-b4cc-487b-8c8e-f946c394fddd",
   "metadata": {},
   "source": [
    "## Probability density distribution of continuous numerical variable-length"
   ]
  },
  {
   "cell_type": "code",
   "execution_count": 45,
   "id": "5d679d42-399b-45e2-a3dc-3f4ff707b1e4",
   "metadata": {},
   "outputs": [
    {
     "data": {
      "image/png": "[encoded data removed]",
      "text/plain": [
       "<Figure size 640x480 with 1 Axes>"
      ]
     },
     "metadata": {},
     "output_type": "display_data"
    }
   ],
   "source": [
    "import numpy as np\n",
    "import matplotlib.pyplot as plt\n",
    "\n",
    "x = np.arange(0, 5, 0.1)\n",
    "y = np.sin(x)\n",
    "\n",
    "plt.plot(x, y)\n",
    "plt.title(\"Sine Wave\")\n",
    "plt.xlabel(\"X Values\")\n",
    "plt.ylabel(\"sin(X)\")\n",
    "plt.grid(True)\n",
    "plt.show()\n"
   ]
  },
  {
   "cell_type": "code",
   "execution_count": 46,
   "id": "6f4b60c2-a595-48da-aec7-8e5fc5a7ea3e",
   "metadata": {},
   "outputs": [
    {
     "data": {
      "text/plain": [
       "<Figure size 800x500 with 0 Axes>"
      ]
     },
     "execution_count": 46,
     "metadata": {},
     "output_type": "execute_result"
    },
    {
     "data": {
      "text/plain": [
       "<Figure size 800x500 with 0 Axes>"
      ]
     },
     "metadata": {},
     "output_type": "display_data"
    }
   ],
   "source": [
    "import numpy as np\n",
    "import matplotlib.pyplot as plt\n",
    "plt.figure(figsize=(8,5))"
   ]
  },
  {
   "cell_type": "code",
   "execution_count": 47,
   "id": "6fea8e1b-2fc3-40a0-8113-aaddaec1b263",
   "metadata": {
    "scrolled": true
   },
   "outputs": [
    {
     "data": {
      "text/plain": [
       "(array([0.00739675, 0.00616396, 0.00616396, 0.00616396, 0.00616396,\n",
       "        0.00616396, 0.00862955, 0.00616396, 0.00616396, 0.00616396,\n",
       "        0.00616396, 0.00616396, 0.00739675, 0.00616396, 0.00616396,\n",
       "        0.00616396, 0.00616396, 0.00616396, 0.00739675, 0.00616396,\n",
       "        0.00616396, 0.00616396, 0.00616396, 0.00616396, 0.00739675,\n",
       "        0.00616396, 0.00616396, 0.00616396, 0.00616396, 0.00739675]),\n",
       " array([  0.        ,   5.16666667,  10.33333333,  15.5       ,\n",
       "         20.66666667,  25.83333333,  31.        ,  36.16666667,\n",
       "         41.33333333,  46.5       ,  51.66666667,  56.83333333,\n",
       "         62.        ,  67.16666667,  72.33333333,  77.5       ,\n",
       "         82.66666667,  87.83333333,  93.        ,  98.16666667,\n",
       "        103.33333333, 108.5       , 113.66666667, 118.83333333,\n",
       "        124.        , 129.16666667, 134.33333333, 139.5       ,\n",
       "        144.66666667, 149.83333333, 155.        ]),\n",
       " <BarContainer object of 30 artists>)"
      ]
     },
     "execution_count": 47,
     "metadata": {},
     "output_type": "execute_result"
    },
    {
     "data": {
      "image/png": "[encoded data removed]",
      "text/plain": [
       "<Figure size 640x480 with 1 Axes>"
      ]
     },
     "metadata": {},
     "output_type": "display_data"
    }
   ],
   "source": [
    "plt.hist(df['Model'], bins=30, density=True, alpha=0.6,color=\"green\", label=\"Histogram\")"
   ]
  },
  {
   "cell_type": "code",
   "execution_count": 48,
   "id": "358d91f7-39a3-456b-81a9-bbaffedd88a8",
   "metadata": {},
   "outputs": [
    {
     "data": {
      "text/plain": [
       "<Axes: xlabel='Horsepower', ylabel='Density'>"
      ]
     },
     "execution_count": 48,
     "metadata": {},
     "output_type": "execute_result"
    },
    {
     "data": {
      "image/png": "[encoded data removed]",
      "text/plain": [
       "<Figure size 640x480 with 1 Axes>"
      ]
     },
     "metadata": {},
     "output_type": "display_data"
    }
   ],
   "source": [
    "sb.kdeplot(df['Horsepower'], fill=True, color=\"blue\", alpha=0.5,\n",
    "label=\"KDE\")"
   ]
  },
  {
   "cell_type": "code",
   "execution_count": null,
   "id": "9b3533a6-e4ea-46f7-8adf-c6c661b5480a",
   "metadata": {},
   "outputs": [],
   "source": []
  },
  {
   "cell_type": "code",
   "execution_count": null,
   "id": "1aed7198-998c-48b9-866c-19e95dc27a1c",
   "metadata": {},
   "outputs": [],
   "source": []
  },
  {
   "cell_type": "code",
   "execution_count": 49,
   "id": "3de3d7f4-bd3e-4fbf-8342-fb4671f4be4c",
   "metadata": {},
   "outputs": [
    {
     "data": {
      "image/png": "[encoded data removed]",
      "text/plain": [
       "<Figure size 800x500 with 1 Axes>"
      ]
     },
     "metadata": {},
     "output_type": "display_data"
    }
   ],
   "source": [
    "plt.figure(figsize=(8, 5))\n",
    "plt.hist(df[\"Horsepower\"], bins=30, density=True, alpha=0.6,color=\"green\", label=\"Histogram\")\n",
    "sb.kdeplot(df[\"Horsepower\"], fill=True, color=\"blue\", alpha=0.5,label=\"KDE\")\n",
    "plt.xlabel(\"column\")\n",
    "plt.ylabel(\"Density\")\n",
    "plt.title(f\"PDF of {\"Horsepower\"} (Histogram + KDE)\")\n",
    "plt.legend()\n",
    "plt.grid()\n",
    "plt.show()"
   ]
  },
  {
   "cell_type": "code",
   "execution_count": null,
   "id": "afd9980c-5c2a-4a4a-8bfa-8a99bcb695fa",
   "metadata": {},
   "outputs": [],
   "source": []
  },
  {
   "cell_type": "code",
   "execution_count": null,
   "id": "4b1d53ad-eb66-4fc9-8f3d-e753adfbacf7",
   "metadata": {},
   "outputs": [],
   "source": []
  },
  {
   "cell_type": "markdown",
   "id": "65a4e24b-ec2a-4b5b-b2cc-89089242a462",
   "metadata": {},
   "source": [
    "### Count by category –group by manufacture"
   ]
  },
  {
   "cell_type": "code",
   "execution_count": 50,
   "id": "4da8b2bb-805f-4d28-8a2e-9e43afc5a95b",
   "metadata": {},
   "outputs": [
    {
     "name": "stdout",
     "output_type": "stream",
     "text": [
      "     Manufacturer  Count\n",
      "0   Acura              4\n",
      "1   Audi               3\n",
      "2   BMW                3\n",
      "3   Buick              4\n",
      "4   Cadillac           5\n",
      "5   Chevrolet          9\n",
      "6   Chrysler           7\n",
      "7   Dodge             11\n",
      "8   Ford              11\n",
      "9   Honda              5\n",
      "10  Hyundai            3\n",
      "11  Infiniti           1\n",
      "12  Jaguar             1\n",
      "13  Jeep               3\n",
      "14  Lexus              6\n",
      "15  Lincoln            3\n",
      "16  Mercedes-Benz      9\n",
      "17  Mercury            6\n",
      "18  Mitsubishi         7\n",
      "19  Nissan             7\n",
      "20  Oldsmobile         6\n",
      "21  Plymouth           4\n",
      "22  Pontiac            6\n",
      "23  Porsche            3\n",
      "24  Saab               2\n",
      "25  Saturn             5\n",
      "26  Subaru             2\n",
      "27  Toyota             9\n",
      "28  Volkswagen         6\n",
      "29  Volvo              6\n"
     ]
    }
   ],
   "source": [
    "manufacturer_counts =df.groupby('Manufacturer').size().reset_index(name='Count')\n",
    "print(manufacturer_counts)"
   ]
  },
  {
   "cell_type": "code",
   "execution_count": null,
   "id": "26158146-1dd7-41ad-b602-be0cdecbfd81",
   "metadata": {},
   "outputs": [],
   "source": []
  },
  {
   "cell_type": "code",
   "execution_count": 51,
   "id": "493c5ab3-3680-49ef-a890-743c0db95497",
   "metadata": {},
   "outputs": [
    {
     "data": {
      "image/png": "[encoded data removed]",
      "text/plain": [
       "<Figure size 1000x600 with 1 Axes>"
      ]
     },
     "metadata": {},
     "output_type": "display_data"
    },
    {
     "data": {
      "image/png": "[encoded data removed]",
      "text/plain": [
       "<Figure size 1000x600 with 1 Axes>"
      ]
     },
     "metadata": {},
     "output_type": "display_data"
    }
   ],
   "source": [
    "df.columns = df.columns.str.strip() #Remove leading and trailing characters.\n",
    "numerical_columns = df.select_dtypes(include=['number']).columns\n",
    "numerical_columns = [col for col in numerical_columns if col !='Manufacturer']\n",
    "if 'Manufacturer' in df.columns:\n",
    "    for col in numerical_columns:\n",
    "        plt.figure(figsize=(10, 6))\n",
    "        sb.boxplot(x='Manufacturer', y=col, data=df)\n",
    "        plt.title(f'Boxplot of {col} by Manufacturer')\n",
    "        plt.xlabel('Manufacturer')\n",
    "        plt.ylabel(col)\n",
    "        plt.xticks(rotation=45)\n",
    "        plt.show()\n",
    "else:\n",
    "    print(\"Error: 'Manufacturer' column not found in the dataset.\")"
   ]
  },
  {
   "cell_type": "code",
   "execution_count": null,
   "id": "a322b4a6-ca5a-48d6-a62f-f2ad9aa91f7a",
   "metadata": {},
   "outputs": [],
   "source": []
  },
  {
   "cell_type": "code",
   "execution_count": null,
   "id": "b892869b-a0bd-4a40-be89-9468fe5e6a70",
   "metadata": {},
   "outputs": [],
   "source": []
  },
  {
   "cell_type": "code",
   "execution_count": null,
   "id": "608ac0cf-68c2-4805-9c3a-ac1ccd66f565",
   "metadata": {},
   "outputs": [],
   "source": []
  },
  {
   "cell_type": "code",
   "execution_count": null,
   "id": "3e9e0f1d-999d-4bfd-9239-2a1aeb74c464",
   "metadata": {},
   "outputs": [],
   "source": []
  },
  {
   "cell_type": "code",
   "execution_count": null,
   "id": "4c7778dc-d6f6-43dd-8683-56daf1063fc1",
   "metadata": {},
   "outputs": [],
   "source": []
  },
  {
   "cell_type": "code",
   "execution_count": null,
   "id": "6c1109c8-8bb7-427f-be40-886a04548d6d",
   "metadata": {},
   "outputs": [],
   "source": []
  },
  {
   "cell_type": "code",
   "execution_count": null,
   "id": "12ec2027-0e2c-4277-ae60-11946c27fee5",
   "metadata": {},
   "outputs": [],
   "source": []
  },
  {
   "cell_type": "code",
   "execution_count": null,
   "id": "ada6d594-a240-456a-8e87-11f41f627f35",
   "metadata": {},
   "outputs": [],
   "source": []
  },
  {
   "cell_type": "code",
   "execution_count": null,
   "id": "035709b7-2a0a-4428-8345-1cb03c8606f4",
   "metadata": {},
   "outputs": [],
   "source": []
  },
  {
   "cell_type": "code",
   "execution_count": null,
   "id": "a90e82a9-f38e-4962-957d-8186961040c4",
   "metadata": {},
   "outputs": [],
   "source": []
  },
  {
   "cell_type": "code",
   "execution_count": null,
   "id": "41a537bb-6742-4ac7-991b-1736a02e54df",
   "metadata": {},
   "outputs": [],
   "source": []
  },
  {
   "cell_type": "code",
   "execution_count": null,
   "id": "008ffafb-3f1c-4ce1-bbbe-ee69df72b7f8",
   "metadata": {},
   "outputs": [],
   "source": []
  },
  {
   "cell_type": "code",
   "execution_count": null,
   "id": "774f12c9-b3d9-41bf-a115-5205a0368ddf",
   "metadata": {},
   "outputs": [],
   "source": []
  },
  {
   "cell_type": "code",
   "execution_count": null,
   "id": "d3b1ccf8-7b87-451c-b761-38b2fb2d8784",
   "metadata": {},
   "outputs": [],
   "source": []
  },
  {
   "cell_type": "code",
   "execution_count": null,
   "id": "cef30326-e78f-40ac-afda-3b60abb39931",
   "metadata": {},
   "outputs": [],
   "source": []
  },
  {
   "cell_type": "code",
   "execution_count": null,
   "id": "1f703037-a1b1-46c4-99b5-8a147d940e68",
   "metadata": {},
   "outputs": [],
   "source": []
  },
  {
   "cell_type": "code",
   "execution_count": null,
   "id": "d9ad407a-a658-4b88-89c2-555970ef4d31",
   "metadata": {},
   "outputs": [],
   "source": []
  },
  {
   "cell_type": "code",
   "execution_count": null,
   "id": "2aaf3721-04ef-446c-9336-fd022327491a",
   "metadata": {},
   "outputs": [],
   "source": []
  },
  {
   "cell_type": "code",
   "execution_count": null,
   "id": "a1f3c9be-5c2f-4e85-b43d-d78b197eb27a",
   "metadata": {},
   "outputs": [],
   "source": []
  },
  {
   "cell_type": "code",
   "execution_count": null,
   "id": "d5dee244-1c7c-41da-a834-c8347bb0cd9a",
   "metadata": {},
   "outputs": [],
   "source": []
  },
  {
   "cell_type": "code",
   "execution_count": null,
   "id": "2cbca7f8-377d-4ae5-bf6f-a853e35a2bf0",
   "metadata": {},
   "outputs": [],
   "source": []
  },
  {
   "cell_type": "code",
   "execution_count": null,
   "id": "a0c905ff-a42a-4558-b124-a4ac686a968e",
   "metadata": {},
   "outputs": [],
   "source": []
  }
 ],
 "metadata": {
  "kernelspec": {
   "display_name": "Python (myenv)",
   "language": "python",
   "name": "myenv"
  },
  "language_info": {
   "codemirror_mode": {
    "name": "ipython",
    "version": 3
   },
   "file_extension": ".py",
   "mimetype": "text/x-python",
   "name": "python",
   "nbconvert_exporter": "python",
   "pygments_lexer": "ipython3",
   "version": "3.12.3"
  }
 },
 "nbformat": 4,
 "nbformat_minor": 5
}
